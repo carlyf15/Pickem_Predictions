{
 "cells": [
  {
   "cell_type": "markdown",
   "metadata": {},
   "source": [
    "## Raw SQL Database"
   ]
  },
  {
   "cell_type": "markdown",
   "metadata": {},
   "source": [
    "Because this dataset is so massive it will be helpful to organize it within an SQL table. Each table will hold one season's worth of information. This will make getting specific information mcuh more efficient. "
   ]
  },
  {
   "cell_type": "code",
   "execution_count": 1,
   "metadata": {},
   "outputs": [],
   "source": [
    "#import and create file\n",
    "import sqlite3\n",
    "conn = sqlite3.connect('NFL_Stats.db')"
   ]
  },
  {
   "cell_type": "code",
   "execution_count": 2,
   "metadata": {},
   "outputs": [],
   "source": [
    "#create cursor\n",
    "c = conn.cursor()"
   ]
  },
  {
   "cell_type": "code",
   "execution_count": 3,
   "metadata": {},
   "outputs": [],
   "source": [
    "import pandas as pd\n",
    "#upload csv file\n",
    "stats_2019 = pd.read_csv('nfl_stats_2019.csv')\n",
    "stats_2018 = pd.read_csv('nfl_stats_2018.csv')\n",
    "stats_2020 = pd.read_csv('nfl_stats_2020.csv')"
   ]
  },
  {
   "cell_type": "code",
   "execution_count": 4,
   "metadata": {},
   "outputs": [],
   "source": [
    "#export df to SQL table\n",
    "stats_2019.to_sql('stats_2019', con=conn, if_exists = 'append')\n",
    "stats_2018.to_sql('stats_2018', con=conn, if_exists = 'append')\n",
    "stats_2020.to_sql('stats_2020', con=conn, if_exists = 'append')"
   ]
  },
  {
   "cell_type": "code",
   "execution_count": 5,
   "metadata": {},
   "outputs": [
    {
     "data": {
      "text/plain": [
       "[(3.0, 10.0),\n",
       " (16.0, 14.0),\n",
       " (31.0, 15.0),\n",
       " (16.0, 6.0),\n",
       " (21.0, 24.0),\n",
       " (25.0, 36.0),\n",
       " (16.0, 17.0),\n",
       " (14.0, 22.0),\n",
       " (20.0, 13.0),\n",
       " (7.0, 17.0),\n",
       " (19.0, 14.0),\n",
       " (24.0, 20.0),\n",
       " (31.0, 24.0),\n",
       " (13.0, 21.0),\n",
       " (3.0, 26.0),\n",
       " (21.0, 19.0)]"
      ]
     },
     "execution_count": 5,
     "metadata": {},
     "output_type": "execute_result"
    }
   ],
   "source": [
    "#sanity check\n",
    "c.execute(''' \n",
    "select Pts_Scored, Pts_Al from stats_2019 where Team_Name == 'Bears'\n",
    "''').fetchall()"
   ]
  },
  {
   "cell_type": "code",
   "execution_count": 6,
   "metadata": {},
   "outputs": [
    {
     "data": {
      "text/plain": [
       "[(0.0, 254.0),\n",
       " (1.0, 273.0),\n",
       " (1.0, 298.0),\n",
       " (1.0, 269.0),\n",
       " (0.0, 236.0),\n",
       " (0.0, 252.0),\n",
       " (0.0, 388.0),\n",
       " (0.0, 164.0),\n",
       " (1.0, 226.0),\n",
       " (0.0, 267.0),\n",
       " (1.0, 335.0),\n",
       " (1.0, 419.0),\n",
       " (1.0, 382.0),\n",
       " (0.0, 415.0),\n",
       " (0.0, 234.0),\n",
       " (1.0, 337.0)]"
      ]
     },
     "execution_count": 6,
     "metadata": {},
     "output_type": "execute_result"
    }
   ],
   "source": [
    "#table check \n",
    "query = '''\n",
    "SELECT Win, Total_Yds_Gm\n",
    "FROM stats_2019\n",
    "Where Team_Name == \"Bears\";'''\n",
    "\n",
    "c.execute(query).fetchall()"
   ]
  },
  {
   "cell_type": "markdown",
   "metadata": {},
   "source": [
    "I can now repeat this for any year I choose to below."
   ]
  },
  {
   "cell_type": "code",
   "execution_count": null,
   "metadata": {},
   "outputs": [],
   "source": []
  },
  {
   "cell_type": "code",
   "execution_count": 7,
   "metadata": {},
   "outputs": [
    {
     "data": {
      "text/plain": [
       "[('stats_2019',), ('stats_2018',), ('stats_2020',)]"
      ]
     },
     "execution_count": 7,
     "metadata": {},
     "output_type": "execute_result"
    }
   ],
   "source": [
    "#Check Tables \n",
    "c.execute('''select name from sqlite_master where type = \"table\" ''').fetchall()"
   ]
  }
 ],
 "metadata": {
  "kernelspec": {
   "display_name": "Python 3",
   "language": "python",
   "name": "python3"
  },
  "language_info": {
   "codemirror_mode": {
    "name": "ipython",
    "version": 3
   },
   "file_extension": ".py",
   "mimetype": "text/x-python",
   "name": "python",
   "nbconvert_exporter": "python",
   "pygments_lexer": "ipython3",
   "version": "3.6.9"
  }
 },
 "nbformat": 4,
 "nbformat_minor": 2
}
