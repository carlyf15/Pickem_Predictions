{
 "cells": [
  {
   "cell_type": "markdown",
   "metadata": {},
   "source": [
    "## Engineered Data SQL Table"
   ]
  },
  {
   "cell_type": "markdown",
   "metadata": {},
   "source": [
    "#### This table will hold all the engineered data that can be pulled for future modeling. "
   ]
  },
  {
   "cell_type": "code",
   "execution_count": 1,
   "metadata": {},
   "outputs": [],
   "source": [
    "#import and create file\n",
    "import sqlite3\n",
    "conn = sqlite3.connect('NFL_Modeling_Stats.db')"
   ]
  },
  {
   "cell_type": "code",
   "execution_count": 2,
   "metadata": {},
   "outputs": [],
   "source": [
    "#create cursor\n",
    "c = conn.cursor()"
   ]
  },
  {
   "cell_type": "code",
   "execution_count": 3,
   "metadata": {},
   "outputs": [],
   "source": [
    "Schedule_2019 = {\n",
    "    'Week_1' : {'Packers':'Bears', 'Redskins':'Eagles', 'Bills':'Jets', 'Falcons':'Vikings','Ravens':'Dolphins',\n",
    "                'Chiefs':'Jaguars','Titans':'Browns','Rams':'Panthers','Bengals':'Seahawks','Colts':'Chargers',\n",
    "                '49ers':'Buccaneers','Giants':'Cowboys','Lions':'Cardinals','Steelers':'Patriots', 'Texans':'Saints',\n",
    "                'Broncos':'Raiders'},\n",
    "    'Week_2' : {'Buccaneers':'Panthers','Cowboys':'Redskins','Colts':'Titans','Seahawks':'Steelers','Bills':'Giants',\n",
    "             'Patriots':'Dolphins','Jaguars':'Texans','Vikings':'Packers','Chargers':'Lions','49ers':'Bengals',\n",
    "             'Cardinals':'Ravens','Chiefs':'Raiders','Saints':'Rams','Bears':'Broncos','Eagles':'Falcons','Browns':'Jets'},\n",
    "    'Week_3' : {'Titans':'Jaguars','Lions':'Eagles','Jets':'Patriots','Raiders':'Vikings','Ravens':'Chiefs','Falcons':'Colts',\n",
    "             'Broncos':'Packers','Dolphins':'Cowboys','Bengals':'Bills','Giants':'Buccaneers','Panthers':'Cardinals',\n",
    "             'Steelers':'49ers','Saints':'Seahawks','Texans':'Chargers','Rams':'Browns','Bears':'Redskins'},\n",
    "    'Week_4' : {'Eagles':'Packers','Redskins':'Giants','Chargers':'Dolphins','Raiders':'Colts','Panthers':'Texans',\n",
    "             'Chiefs':'Lions','Patriots':'Bills','Browns':'Ravens','Titans':'Falcons','Buccaneers':'Rams',\n",
    "             'Seahawks':'Cardinals','Jaguars':'Broncos','Vikings':'Bears','Cowboys':'Saints','Bengals':'Steelers'},\n",
    "    'Week_5' : {'Rams':'Seahawks','Patriots':'Redskins','Bills':'Titans','Ravens':'Steelers','Jets':'Eagles',\n",
    "             'Bears':'Raiders','Vikings':'Giants','Buccaneers':'Saints','Falcons':'Texans','Cardinals':'Bengals',\n",
    "             'Jaguars':'Panthers','Broncos':'Chargers','Packers':'Cowboys','Colts':'Chiefs','Browns':'49ers'},\n",
    "    'Week_6' : {'Giants':'Patriots','Eagles':'Vikings','Redskins':'Dolphins','Texans':'Chiefs','Saints':'Jaguars',\n",
    "             'Seahawks':'Browns','Bengals':'Ravens','49ers':'Rams','Falcons':'Cardinals','Cowboys':'Jets',\n",
    "             'Titans':'Broncos','Steelers':'Chargers','Lions':'Packers','Panthers':'Buccaneers'},\n",
    "    'Week_7' : {'Chiefs':'Broncos','49ers':'Redskins','Cardinals':'Giants','Texans':'Colts','Raiders':'Packers',\n",
    "             'Vikings':'Lions','Jaguars':'Bengals','Dolphins':'Bills','Rams':'Falcons','Chargers':'Titans',\n",
    "             'Ravens':'Seahawks','Saints':'Bears','Eagles':'Cowboys','Patriots':'Jets'},\n",
    "    'Week_8' : {'Redskins':'Vikings','Broncos':'Colts','Buccaneers':'Titans','Cardinals':'Saints','Bengals':'Rams',\n",
    "             'Jets':'Jaguars','Giants':'Lions','Chargers':'Bears','Eagles':'Bills','Seahawks':'Falcons',\n",
    "             'Panthers':'49ers','Browns':'Patriots','Raiders':'Texans','Packers':'Chiefs','Dolphins':'Steelers'},\n",
    "    'Week_9' : {'49ers':'Cardinals','Texans':'Jaguars','Colts':'Steelers','Bears':'Eagles','Jets':'Dolphins',\n",
    "             'Vikings':'Chiefs','Titans':'Panthers','Redskins':'Bills','Buccaneers':'Seahawks','Lions':'Raiders',\n",
    "             'Packers':'Chargers','Browns':'Broncos','Patriots':'Ravens','Cowboys':'Giants'},\n",
    "    'Week_10' : {'Chargers':'Raiders','Chiefs':'Titans','Cardinals':'Buccaneers','Giants':'Jets','Falcons':'Saints',\n",
    "              'Bills':'Browns','Ravens':'Bengals','Lions':'Bears','Dolphins':'Colts','Rams':'Steelers','Panthers':'Packers',\n",
    "              'Vikings':'Cowboys','Seahawks':'49ers'},\n",
    "    'Week_11' : {'Steelers':'Browns','Jets':'Redskins','Saints':'Buccaneers','Broncos':'Vikings','Bills':'Dolphins',\n",
    "              'Jaguars':'Colts','Cowboys':'Lions','Falcons':'Panthers','Texans':'Ravens','Cardinals':'49ers',\n",
    "              'Patriots':'Eagles','Bengals':'Raiders','Bears':'Rams','Chiefs':'Chargers'},\n",
    "    'Week_12' : {'Colts':'Texans','Seahawks':'Eagles','Lions':'Redskins','Raiders':'Jets','Panthers':'Saints',\n",
    "              'Dolphins':'Browns','Steelers':'Bengals','Giants':'Bears','Broncos':'Bills','Buccaneers':'Falcons',\n",
    "              'Jaguars':'Titans','Cowboys':'Patriots','Packers':'49ers','Ravens':'Rams'},\n",
    "    'Week_13' : {'Bears':'Lions','Bills':'Cowboys','Saints':'Falcons','Browns':'Steelers','Packers':'Giants',\n",
    "              'Eagles':'Dolphins','Buccaneers':'Jaguars','Titans':'Colts','Jets':'Bengals','Redskins':'Panthers',\n",
    "              '49ers':'Ravens','Rams':'Cardinals','Chargers':'Broncos','Raiders':'Chiefs','Patriots':'Texans',\n",
    "              'Vikings':'Seahawks'},\n",
    "    'Week_14' : {'Cowboys':'Bears', 'Colts':'Buccaneers','Dolphins':'Jets','49ers':'Saints','Lions':'Vikings',\n",
    "              'Broncos':'Texans', 'Redskins':'Packers','Bengals':'Browns','Ravens':'Bills','Panthers':'Falcons',\n",
    "              'Chargers':'Jaguars','Titans':'Raiders','Chiefs':'Patriots','Steelers':'Cardinals','Seahawks':'Rams',\n",
    "              'Giants':'Eagles'},\n",
    "    'Week_15' : {'Jets':'Ravens','Eagles':'Redskins','Texans':'Titans','Dolphins':'Giants','Broncos':'Chiefs',\n",
    "              'Bears':'Packers','Buccaneers':'Lions','Patriots':'Bengals','Seahawks':'Panthers','Vikings':'Chargers',\n",
    "              'Jaguars':'Raiders','Browns':'Cardinals','Falcons':'49ers','Rams':'Cowboys','Bills':'Steelers',\n",
    "              'Colts':'Saints'},\n",
    "    'Week_16' : {'Texans':'Buccaneers','Bills':'Patriots','Rams':'49ers','Giants':'Redskins','Saints':'Titans',\n",
    "                'Steelers':'Jets','Bengals':'Dolphins','Panthers':'Colts','Ravens':'Browns','Jaguars':'Falcons',\n",
    "                'Raiders':'Chargers','Lions':'Broncos','Cardinals':'Seahawks','Cowboys':'Eagles','Chiefs':'Bears',\n",
    "                'Packers':'Vikings'},\n",
    "    'Week_17' : {'Falcons':'Buccaneers','Dolphins':'Patriots','Bears':'Vikings','Chargers':'Chiefs','Packers':'Lions',\n",
    "                'Browns':'Bengals','Saints':'Panthers','Jets':'Bills','Cardinals':'Rams','Raiders':'Broncos',\n",
    "                'Eagles':'Giants','Colts':'Jaguars','Titans':'Texans','Redskins':'Cowboys','Steelers':'Ravens',\n",
    "                '49ers':'Seahawks'},\n",
    "    'Week_18' : {'Bills':'Texans','Titans':'Patriots','Vikings':'Saints','Seahawks':'Eagles'},\n",
    "    \n",
    "    'Week_19' : {'Vikings':'49ers','Titans':'Ravens', 'Texans':'Chiefs','Seahawks':'Packers'},\n",
    "    \n",
    "    'Week_20' : {'Titans':'Chiefs','Packers':'49ers'},\n",
    "    \n",
    "    'Week_21' : {'49ers':'Chiefs'}\n",
    "    \n",
    "}"
   ]
  },
  {
   "cell_type": "code",
   "execution_count": 4,
   "metadata": {},
   "outputs": [],
   "source": [
    "Schedule_2020 = {\n",
    "    \n",
    "    'Week_1' : {'Texans':'Chiefs','Eagles':'Redskins','Dolphins':'Patriots','Packers':'Vikings','Colts':'Jaguars',\n",
    "               'Bears':'Lions','Raiders':'Panthers','Jets':'Bills','Browns':'Ravens','Seahawks':'Falcons',\n",
    "               'Chargers':'Bengals','Cardinals':'49ers','Buccaneers':'Saints','Cowboys':'Rams','Steelers':'Giants',\n",
    "               'Titans':'Broncos'},\n",
    "    'Week_2' : {'Bengals':'Browns','Jaguars':'Titans','Panthers':'Buccaneers','Broncos':'Steelers','Rams':'Eagles',\n",
    "               '49ers':'Jets','Bills':'Dolphins','Vikings':'Colts','Lions':'Packers','Falcons':'Cowboys',\n",
    "               'Giants':'Bears','Redskins':'Cardinals','Chiefs':'Chargers','Ravens':'Texans','Patriots':'Seahwaks',\n",
    "               'Saints':'Raiders'},\n",
    "    'Week_3' : {'Dolphins':'Jaguars','Texans':'Steelers','Bengals':'Eagles','49ers':'Giants','Raiders':'Patriots',\n",
    "               'Titans':'Vikings','Redskins':'Browns','Rams':'Bills','Bears':'Falcons','Panthers':'Chargers',\n",
    "               'Jets':'Colts','Cowboys':'Seahawks','Buccaneers':'Broncos','Lions':'Cardinals','Packers':'Saints',\n",
    "               'Chiefs':'Ravens'},\n",
    "    'Week_4' : {'Broncos':'Jets','Ravens':'Redskins','Chargers':'Buccaneers','Seahawks':'Dolphins','Vikings':'Texans',\n",
    "               'Saints':'Lions','Browns':'Cowboys','Jaguars':'Bengals','Cardinals':'Panthers','Giants':'Rams',\n",
    "               'Bills':'Raiders','Colts':'Bears','Eagles':'49ers','Patriots':'Chiefs','Falcons':'Packers'},\n",
    "    'Week_5' : {'Buccaneers':'Bears','Rams':'Redskins','Eagles':'Steelers','Cardinals':'Jets','Raiders':'Chiefs',\n",
    "               'Jaguars':'Texans','Bengals':'Ravens','Panthers':'Falcons','Dolphins':'49ers','Giants':'Cowboys',\n",
    "               'Colts':'Browns','Vikings':'Seahawks','Chargers':'Saints','Bills':'Titans'},\n",
    "    'Week_6' : {'Broncos':'Patriots','Texans':'Titans','Browns':'Steelers','Ravens':'Eagles','Redskins':'Giants',\n",
    "               'Falcons':'Vikings','Lions':'Jaguars','Bengals':'Colts','Bears':'Panthers','Jets':'Dolphins',\n",
    "               'Packers':'Buccaneers','Rams':'49ers','Chiefs':'Bills','Cardinals':'Cowboys'},\n",
    "    'Week_7' : {'Giants':'Eagles','Steelers':'Titans','Cowboys':'Redskins','Bills':'Jets','Panthers':'Saints',\n",
    "               'Packers':'Texans','Browns':'Bengals','Lions':'Falcons','Buccaneers':'Raiders','Jaguars':'Chargers',\n",
    "               '49ers':'Patriots','Chiefs':'Broncos','Seahawks':'Cardinals','Bears':'Rams'},\n",
    "    'Week_8' : {'Falcons':'Panthers','Steelers':'Ravens','Rams':'Dolphins','Jets':'Chiefs','Vikings':'Packers',\n",
    "               'Colts':'Lions','Raiders':'Browns','Titans':'Bengals','Patriots':'Bills','Chargers':'Broncos',\n",
    "               '49ers':'Seahawks','Saints':'Bears','Cowboys':'Eagles','Buccaneers':'Giants'}\n",
    "}"
   ]
  },
  {
   "cell_type": "code",
   "execution_count": 5,
   "metadata": {},
   "outputs": [],
   "source": [
    "import pandas as pd\n",
    "import numpy as np"
   ]
  },
  {
   "cell_type": "code",
   "execution_count": 6,
   "metadata": {},
   "outputs": [],
   "source": [
    "def Get_Table(Week_Dict, Week, data):\n",
    "    df = pd.DataFrame()\n",
    "    for x,y in enumerate(Week_Dict.items()):\n",
    "        Week = Week\n",
    "        Game = 'Week_'+str(Week)+'_'+y[1]\n",
    "        df.loc[Game, 'Home_Team'] = y[1]\n",
    "        df.loc[Game, 'Away_Team'] = y[0]\n",
    "        df.loc[Game, 'Home_Week'] = Week\n",
    "        df.loc[Game, 'Away_Week'] = Week \n",
    "        if data.loc[(data['Team_Name'] == y[1]) & (data['Week_Of_Szn'] == Week)]['Win'].sum() == 0.0:\n",
    "            df.loc[Game, 'Winner'] = 'Away'\n",
    "        else:\n",
    "            df.loc[Game, 'Winner'] = 'Home'\n",
    "        for column in data.columns.drop('Team_Name', 'Week_Of_Szn'):\n",
    "            df.loc[Game, 'Home_'+column] = data.loc[(data['Team_Name'] == y[1]) &\n",
    "                                                   (data['Week_Of_Szn'] <= Week)][column].mean()\n",
    "            df.loc[Game, 'Away_'+column] = data.loc[(data['Team_Name'] == y[0]) & \n",
    "                                                              (data['Week_Of_Szn'] <= Week)][column].mean()\n",
    "\n",
    "    \n",
    "    return df"
   ]
  },
  {
   "cell_type": "code",
   "execution_count": 7,
   "metadata": {},
   "outputs": [],
   "source": [
    "stats_2019 = pd.read_csv('nfl_stats_2019.csv').drop(['Penalties', 'Opp_Name', 'Superbowl_Win'], axis=1)\n",
    "stats_2020 = pd.read_csv('nfl_stats_2020.csv').drop(['Penalties', 'Opp_Name', 'Superbowl_Win'], axis=1)"
   ]
  },
  {
   "cell_type": "code",
   "execution_count": 8,
   "metadata": {},
   "outputs": [],
   "source": [
    "NFL_2019 = pd.DataFrame()\n",
    "\n",
    "for num, week in enumerate(Schedule_2019.keys()):\n",
    "    number = num +1\n",
    "    NFL_2019 = pd.concat([NFL_2019, Get_Table(Schedule_2019[week], number, stats_2019)])"
   ]
  },
  {
   "cell_type": "code",
   "execution_count": 9,
   "metadata": {},
   "outputs": [],
   "source": [
    "NFL_2020 = pd.DataFrame()\n",
    "\n",
    "for num, week in enumerate(Schedule_2020.keys()):\n",
    "    number = num + 1\n",
    "    NFL_2020 = pd.concat([NFL_2020, Get_Table(Schedule_2020[week], number, stats_2020)])"
   ]
  },
  {
   "cell_type": "code",
   "execution_count": 11,
   "metadata": {},
   "outputs": [],
   "source": [
    "NFL_List = pd.concat([NFL_2019, NFL_2020])"
   ]
  },
  {
   "cell_type": "code",
   "execution_count": 12,
   "metadata": {},
   "outputs": [],
   "source": [
    "NFL_List.to_sql('modeled_stats', con=conn, if_exists = 'append')"
   ]
  },
  {
   "cell_type": "code",
   "execution_count": null,
   "metadata": {},
   "outputs": [],
   "source": []
  }
 ],
 "metadata": {
  "kernelspec": {
   "display_name": "Python 3",
   "language": "python",
   "name": "python3"
  },
  "language_info": {
   "codemirror_mode": {
    "name": "ipython",
    "version": 3
   },
   "file_extension": ".py",
   "mimetype": "text/x-python",
   "name": "python",
   "nbconvert_exporter": "python",
   "pygments_lexer": "ipython3",
   "version": "3.6.9"
  }
 },
 "nbformat": 4,
 "nbformat_minor": 2
}
